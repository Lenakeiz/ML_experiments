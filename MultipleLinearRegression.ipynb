{
 "cells": [
  {
   "cell_type": "markdown",
   "source": [
    "# Dummy variable trap\r\n",
    "## You should not include two dummy variables to code gender or in this case the State. If you include two dummy variable for coding a yes or no question and you also use the constant you are adding the same independent variables (B constant is always 1 and two dummy variable summed will always be 1 as well). Solution is either to take out the constant or one of the two dummy variable."
   ],
   "metadata": {}
  },
  {
   "cell_type": "markdown",
   "source": [
    "# All in method\r\n",
    "\r\n",
    "## A priori model \r\n",
    "## Inserting variables based on hypothesis testing"
   ],
   "metadata": {}
  },
  {
   "cell_type": "markdown",
   "source": [
    "# Backward elimination $\\rightarrow$ Stepwise Regression\r\n",
    "## - Needs a significance level to STAY in the model \r\n",
    "## - Fit model with all predictors\r\n",
    "## - Consider predictor with highest p value otherwise remove the predictor\r\n",
    "## - Fit again and repeat"
   ],
   "metadata": {}
  },
  {
   "cell_type": "markdown",
   "source": [],
   "metadata": {}
  },
  {
   "cell_type": "markdown",
   "source": [
    "# Forward selection $\\rightarrow$ Stepwise Regression\r\n",
    "## - Needs a significance level to ENTER in the model \r\n",
    "## - Fit all the variables to the model. Select lowest pValue\r\n",
    "## - Keep this variable and fit all possible models with one extra predictor added to the one you have already\r\n",
    "## - Consider the predictor with the lowest pValue. If P < SL go back to previous step and finish when the condition is not met\r\n",
    "## - Remember to keep the previous model\r\n"
   ],
   "metadata": {}
  },
  {
   "cell_type": "markdown",
   "source": [
    "# Bideractional elimination $\\rightarrow$ Stepwise Regression\r\n",
    "## 1. Needs a significance level to enter AND to stay in the model \r\n",
    "## 2. Perform forward selection step (p<enterValue)\r\n",
    "## 3. Perform all backward elimination step (p<stayValue)\r\n",
    "## 4. Repeat from step 2 until no new variable can enter or no old variable can leave"
   ],
   "metadata": {}
  },
  {
   "cell_type": "markdown",
   "source": [
    "# All possible models\r\n",
    "## Select criterion of goodness of fit (Akaike)\r\n",
    "## Construct all possible regression models: $2^N - 1$ total combination\r\n",
    "## Select the one with the best criterion "
   ],
   "metadata": {}
  },
  {
   "cell_type": "markdown",
   "source": [
    "# Example with Backward Elimination"
   ],
   "metadata": {}
  },
  {
   "cell_type": "code",
   "execution_count": 1,
   "source": [
    "import numpy as np\r\n",
    "import matplotlib.pyplot as plt\r\n",
    "import pandas as pd\r\n",
    "import statsmodels as sm"
   ],
   "outputs": [],
   "metadata": {}
  },
  {
   "cell_type": "code",
   "execution_count": 2,
   "source": [
    "\r\n",
    "dataset = pd.read_csv('50_Startups.csv')\r\n",
    "X = dataset.iloc[:, :-1].values\r\n",
    "y = dataset.iloc[:, -1].values\r\n"
   ],
   "outputs": [],
   "metadata": {}
  },
  {
   "cell_type": "code",
   "execution_count": 3,
   "source": [
    "from sklearn.compose import ColumnTransformer\r\n",
    "from sklearn.preprocessing import OneHotEncoder\r\n",
    "ct = ColumnTransformer(transformers=[('encoder',OneHotEncoder(),[3])], remainder='passthrough')\r\n",
    "X = ct.fit_transform(X)\r\n",
    "\r\n",
    "print(X[0:10,:])"
   ],
   "outputs": [
    {
     "output_type": "stream",
     "name": "stdout",
     "text": [
      "[[0.0 0.0 1.0 165349.2 136897.8 471784.1]\n",
      " [1.0 0.0 0.0 162597.7 151377.59 443898.53]\n",
      " [0.0 1.0 0.0 153441.51 101145.55 407934.54]\n",
      " [0.0 0.0 1.0 144372.41 118671.85 383199.62]\n",
      " [0.0 1.0 0.0 142107.34 91391.77 366168.42]\n",
      " [0.0 0.0 1.0 131876.9 99814.71 362861.36]\n",
      " [1.0 0.0 0.0 134615.46 147198.87 127716.82]\n",
      " [0.0 1.0 0.0 130298.13 145530.06 323876.68]\n",
      " [0.0 0.0 1.0 120542.52 148718.95 311613.29]\n",
      " [1.0 0.0 0.0 123334.88 108679.17 304981.62]]\n"
     ]
    }
   ],
   "metadata": {}
  },
  {
   "cell_type": "code",
   "execution_count": 4,
   "source": [
    "# We are not doing the multiple regression assumption because if the model is not correct it will just perform poorly\r\n",
    "\r\n",
    "from sklearn.model_selection import train_test_split\r\n",
    "X_train, X_test, y_train, y_test = train_test_split(X,y, test_size=0.2, random_state=0)"
   ],
   "outputs": [],
   "metadata": {}
  },
  {
   "cell_type": "markdown",
   "source": [
    "# Training the model\r\n",
    "## Dummy variable is handled by the class used for fitting the model\r\n",
    "## Selecting variables will be dealt by the fitting model"
   ],
   "metadata": {}
  },
  {
   "cell_type": "code",
   "execution_count": 14,
   "source": [
    "from sklearn.linear_model import LinearRegression\r\n",
    "regressor = LinearRegression()\r\n",
    "modelFit = regressor.fit(X_train,y_train)\r\n",
    "print(modelFit.score(X_train,y_train))\r\n",
    "print(modelFit.coef_)\r\n",
    "print(modelFit.rank_)\r\n",
    "\r\n",
    "# Extracting coefficients p values using statmodels\r\n",
    "import statsmodels.api as sm\r\n",
    "#X_2 = sm.add_constant(X_train)\r\n",
    "\r\n",
    "y_trainD = np.array(y_train,dtype=float)\r\n",
    "X_trainD = np.array(X_train,dtype=float)\r\n",
    "\r\n",
    "mod = sm.OLS(y_trainD,X_trainD)\r\n",
    "\r\n",
    "estimate = mod.fit()\r\n",
    "print(estimate.summary())"
   ],
   "outputs": [
    {
     "output_type": "stream",
     "name": "stdout",
     "text": [
      "0.9501847627493607\n",
      "[ 8.66383692e+01 -8.72645791e+02  7.86007422e+02  7.73467193e-01\n",
      "  3.28845975e-02  3.66100259e-02]\n",
      "5\n",
      "                            OLS Regression Results                            \n",
      "==============================================================================\n",
      "Dep. Variable:                      y   R-squared:                       0.950\n",
      "Model:                            OLS   Adj. R-squared:                  0.943\n",
      "Method:                 Least Squares   F-statistic:                     129.7\n",
      "Date:                Wed, 10 Nov 2021   Prob (F-statistic):           3.91e-21\n",
      "Time:                        19:31:36   Log-Likelihood:                -421.10\n",
      "No. Observations:                  40   AIC:                             854.2\n",
      "Df Residuals:                      34   BIC:                             864.3\n",
      "Df Model:                           5                                         \n",
      "Covariance Type:            nonrobust                                         \n",
      "==============================================================================\n",
      "                 coef    std err          t      P>|t|      [0.025      0.975]\n",
      "------------------------------------------------------------------------------\n",
      "x1          4.255e+04   8358.538      5.091      0.000    2.56e+04    5.95e+04\n",
      "x2          4.159e+04   9015.583      4.614      0.000    2.33e+04    5.99e+04\n",
      "x3          4.325e+04   8315.816      5.201      0.000    2.64e+04    6.02e+04\n",
      "x4             0.7735      0.055     14.025      0.000       0.661       0.886\n",
      "x5             0.0329      0.066      0.495      0.624      -0.102       0.168\n",
      "x6             0.0366      0.019      1.884      0.068      -0.003       0.076\n",
      "==============================================================================\n",
      "Omnibus:                       15.823   Durbin-Watson:                   2.468\n",
      "Prob(Omnibus):                  0.000   Jarque-Bera (JB):               23.231\n",
      "Skew:                          -1.094   Prob(JB):                     9.03e-06\n",
      "Kurtosis:                       6.025   Cond. No.                     2.52e+06\n",
      "==============================================================================\n",
      "\n",
      "Notes:\n",
      "[1] Standard Errors assume that the covariance matrix of the errors is correctly specified.\n",
      "[2] The condition number is large, 2.52e+06. This might indicate that there are\n",
      "strong multicollinearity or other numerical problems.\n"
     ]
    }
   ],
   "metadata": {}
  },
  {
   "cell_type": "markdown",
   "source": [
    "# Calculate manually the pValues"
   ],
   "metadata": {}
  },
  {
   "cell_type": "code",
   "execution_count": 21,
   "source": [
    "from scipy import stats\r\n",
    "\r\n",
    "params = np.append(modelFit.intercept_,modelFit.coef_)\r\n",
    "predictions = modelFit.predict(X_trainD)\r\n",
    "\r\n",
    "newX = pd.DataFrame({\"Constant\":np.ones(len(X_trainD))}).join(pd.DataFrame(X_trainD))\r\n",
    "MSE = (sum((y_trainD-predictions)**2))/(len(newX)-len(newX.columns))\r\n",
    "\r\n",
    "# Note if you don't want to use a DataFrame replace the two lines above with\r\n",
    "# newX = np.append(np.ones((len(X),1)), X, axis=1)\r\n",
    "# MSE = (sum((y-predictions)**2))/(len(newX)-len(newX[0]))\r\n",
    "\r\n",
    "var_b = MSE*(np.linalg.inv(np.dot(newX.T,newX)).diagonal())\r\n",
    "sd_b = np.sqrt(var_b)\r\n",
    "ts_b = params/ sd_b\r\n",
    "\r\n",
    "p_values =[2*(1-stats.t.cdf(np.abs(i),(len(newX)-len(newX[0])))) for i in ts_b]\r\n",
    "\r\n",
    "sd_b = np.round(sd_b,3)\r\n",
    "ts_b = np.round(ts_b,3)\r\n",
    "p_values = np.round(p_values,3)\r\n",
    "params = np.round(params,4)\r\n",
    "\r\n",
    "myDF3 = pd.DataFrame()\r\n",
    "myDF3[\"Coefficients\"],myDF3[\"Standard Errors\"],myDF3[\"t values\"],myDF3[\"Probabilities\"] = [params,sd_b,ts_b,p_values]\r\n",
    "print(myDF3)"
   ],
   "outputs": [
    {
     "output_type": "stream",
     "name": "stdout",
     "text": [
      "   Coefficients  Standard Errors  t values  Probabilities\n",
      "0    42467.5292     4.646477e+11     0.000            NaN\n",
      "1       86.6384     4.646477e+11     0.000            NaN\n",
      "2     -872.6458     4.646477e+11    -0.000            NaN\n",
      "3      786.0074     4.646477e+11     0.000            NaN\n",
      "4        0.7735     5.600000e-02    13.817            NaN\n",
      "5        0.0329     6.700000e-02     0.487            NaN\n",
      "6        0.0366     2.000000e-02     1.857            NaN\n"
     ]
    }
   ],
   "metadata": {}
  },
  {
   "cell_type": "markdown",
   "source": [
    "# Predicting the test set"
   ],
   "metadata": {}
  },
  {
   "cell_type": "code",
   "execution_count": null,
   "source": [
    "y_pred = modelFit.predict(X_test)\r\n",
    "np.set_printoptions(precision=2)\r\n",
    "concatenate = np.concatenate( (y_pred.reshape(len(y_pred),1),y_test.reshape(len(y_test),1)),1)\r\n",
    "print(concatenate)\r\n",
    "plt.scatter(y_pred,y_test,color='blue')"
   ],
   "outputs": [
    {
     "output_type": "stream",
     "name": "stdout",
     "text": [
      "[[103015.2  103282.38]\n",
      " [132582.28 144259.4 ]\n",
      " [132447.74 146121.95]\n",
      " [ 71976.1   77798.83]\n",
      " [178537.48 191050.39]\n",
      " [116161.24 105008.31]\n",
      " [ 67851.69  81229.06]\n",
      " [ 98791.73  97483.56]\n",
      " [113969.44 110352.25]\n",
      " [167921.07 166187.94]]\n"
     ]
    },
    {
     "output_type": "execute_result",
     "data": {
      "text/plain": [
       "<matplotlib.collections.PathCollection at 0x203ed142fa0>"
      ]
     },
     "metadata": {},
     "execution_count": 20
    },
    {
     "output_type": "display_data",
     "data": {
      "image/png": "[encoded data removed]",
      "text/plain": [
       "<Figure size 432x288 with 1 Axes>"
      ]
     },
     "metadata": {
      "needs_background": "light"
     }
    }
   ],
   "metadata": {}
  }
 ],
 "metadata": {
  "orig_nbformat": 4,
  "language_info": {
   "name": "python",
   "version": "3.9.7",
   "mimetype": "text/x-python",
   "codemirror_mode": {
    "name": "ipython",
    "version": 3
   },
   "pygments_lexer": "ipython3",
   "nbconvert_exporter": "python",
   "file_extension": ".py"
  },
  "kernelspec": {
   "name": "python3",
   "display_name": "Python 3.9.7 64-bit"
  },
  "interpreter": {
   "hash": "e16b573a426c71c0ebe04e4f28ac2539e5d98b1d565f8bf1acf240a5e7b140c7"
  }
 },
 "nbformat": 4,
 "nbformat_minor": 2
}